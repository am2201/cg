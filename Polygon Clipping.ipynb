{
 "cells": [
  {
   "cell_type": "code",
   "execution_count": 3,
   "id": "ab0cab15",
   "metadata": {},
   "outputs": [
    {
     "name": "stdout",
     "output_type": "stream",
     "text": [
      "Enter endpoint 1 (x y): 150 70\n",
      "Enter endpoint 2 (x y): 20 110\n",
      "Enter endpoint 3 (x y): -20 20\n",
      "Enter endpoint 4 (x y): 30 -10\n",
      "Enter screen width: 100\n",
      "Enter screen height: 100\n",
      "Clipped Polygon:\n",
      "(45.0, 0.0)\n",
      "(100, 36.66666666666666)\n",
      "(100, 85.38461538461539)\n",
      "(52.50000000000003, 100.0)\n",
      "(15.555555555555555, 100.0)\n",
      "(0, 65.0)\n",
      "(0, 8.0)\n",
      "(13.333333333333334, 0.0)\n"
     ]
    }
   ],
   "source": [
    "def inside(point, clip_edge):\n",
    "    return (clip_edge[1][0] - clip_edge[0][0]) * (point[1] - clip_edge[0][1]) > (clip_edge[1][1] - clip_edge[0][1]) * (point[0] - clip_edge[0][0])\n",
    "\n",
    "def intersection(point1, point2, clip_edge):\n",
    "    dx = point2[0] - point1[0]\n",
    "    dy = point2[1] - point1[1]\n",
    "    m = dy / dx\n",
    "    b = point1[1] - m * point1[0]\n",
    "\n",
    "    if clip_edge[0][0] == clip_edge[1][0]:\n",
    "        x = clip_edge[0][0]\n",
    "        y = m * x + b\n",
    "    else:\n",
    "        m_clip = (clip_edge[1][1] - clip_edge[0][1]) / (clip_edge[1][0] - clip_edge[0][0])\n",
    "        b_clip = clip_edge[0][1] - m_clip * clip_edge[0][0]\n",
    "\n",
    "        x = (b_clip - b) / (m - m_clip)\n",
    "        y = m * x + b\n",
    "\n",
    "    return x, y\n",
    "\n",
    "def sutherland_hodgman(poly_points, clip_points):\n",
    "    output = poly_points\n",
    "\n",
    "    for edge in range(4):\n",
    "        clip_edge = (clip_points[edge], clip_points[(edge + 1) % 4])\n",
    "        input_list = output\n",
    "        output = []\n",
    "\n",
    "        S = input_list[-1]\n",
    "        for E in input_list:\n",
    "            if inside(E, clip_edge):\n",
    "                if not inside(S, clip_edge):\n",
    "                    output.append(intersection(S, E, clip_edge))\n",
    "                output.append(E)\n",
    "            elif inside(S, clip_edge):\n",
    "                output.append(intersection(S, E, clip_edge))\n",
    "            S = E\n",
    "\n",
    "    return output\n",
    "\n",
    "# Input endpoints of the polygon and screen dimensions\n",
    "polygon_points = []\n",
    "for i in range(4):\n",
    "    point = tuple(map(int, input(f\"Enter endpoint {i+1} (x y): \").split()))\n",
    "    polygon_points.append(point)\n",
    "\n",
    "width = int(input(\"Enter screen width: \"))\n",
    "height = int(input(\"Enter screen height: \"))\n",
    "\n",
    "# Define clipping window as a rectangle with its vertices in clockwise order\n",
    "clip_points = [(0, 0), (width, 0), (width, height), (0, height)]\n",
    "\n",
    "# Perform Sutherland-Hodgman polygon clipping\n",
    "clipped_polygon = sutherland_hodgman(polygon_points, clip_points)\n",
    "\n",
    "# Print the coordinates of the clipped polygon\n",
    "print(\"Clipped Polygon:\")\n",
    "for point in clipped_polygon:\n",
    "    print(point)"
   ]
  },
  {
   "cell_type": "code",
   "execution_count": 16,
   "id": "e2c8255e",
   "metadata": {},
   "outputs": [
    {
     "data": {
      "text/plain": [
       "[<matplotlib.lines.Line2D at 0x24b8223d250>]"
      ]
     },
     "execution_count": 16,
     "metadata": {},
     "output_type": "execute_result"
    },
    {
     "data": {
      "image/png": "[encoded data removed]",
      "text/plain": [
       "<Figure size 640x480 with 1 Axes>"
      ]
     },
     "metadata": {},
     "output_type": "display_data"
    }
   ],
   "source": [
    "#Printing the original polygon and the screen\n",
    "import matplotlib.pyplot as plt\n",
    "#plt.plot([0,0], [0,100])\n",
    "#plt.plot([0,0], [100,0])\n",
    "#plt.plot([0,100],[100,100])\n",
    "#plt.plot([100,0],[100,100])"
   ]
  },
  {
   "cell_type": "code",
   "execution_count": null,
   "id": "2f17ff8a",
   "metadata": {},
   "outputs": [],
   "source": []
  }
 ],
 "metadata": {
  "kernelspec": {
   "display_name": "Python 3 (ipykernel)",
   "language": "python",
   "name": "python3"
  },
  "language_info": {
   "codemirror_mode": {
    "name": "ipython",
    "version": 3
   },
   "file_extension": ".py",
   "mimetype": "text/x-python",
   "name": "python",
   "nbconvert_exporter": "python",
   "pygments_lexer": "ipython3",
   "version": "3.11.4"
  }
 },
 "nbformat": 4,
 "nbformat_minor": 5
}
