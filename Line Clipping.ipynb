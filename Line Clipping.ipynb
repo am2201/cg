{
 "cells": [
  {
   "cell_type": "code",
   "execution_count": 1,
   "id": "2b28d62c",
   "metadata": {},
   "outputs": [
    {
     "name": "stdout",
     "output_type": "stream",
     "text": [
      "Enter endpoint 1 (x1 y1): -50 50\n",
      "Enter endpoint 2 (x2 y2): 150 50\n",
      "Enter screen width: 100\n",
      "Enter screen height: 100\n",
      "Line after clipping: (0, 50.0) - (99, 50.0)\n"
     ]
    }
   ],
   "source": [
    "def compute_outcode(x, y, xmin, ymin, xmax, ymax):\n",
    "    code = 0\n",
    "    if x < xmin:\n",
    "        code |= 1\n",
    "    elif x > xmax:\n",
    "        code |= 2\n",
    "    if y < ymin:\n",
    "        code |= 4\n",
    "    elif y > ymax:\n",
    "        code |= 8\n",
    "    return code\n",
    "\n",
    "def cohen_sutherland(x1, y1, x2, y2, xmin, ymin, xmax, ymax):\n",
    "    code1 = compute_outcode(x1, y1, xmin, ymin, xmax, ymax)\n",
    "    code2 = compute_outcode(x2, y2, xmin, ymin, xmax, ymax)\n",
    "    accept = False\n",
    "\n",
    "    while True:\n",
    "        if code1 == 0 and code2 == 0:\n",
    "            accept = True\n",
    "            break\n",
    "        elif code1 & code2 != 0:\n",
    "            break\n",
    "        else:\n",
    "            x, y = 0, 0\n",
    "            if code1 != 0:\n",
    "                code_out = code1\n",
    "            else:\n",
    "                code_out = code2\n",
    "\n",
    "            if code_out & 1:\n",
    "                x = xmin\n",
    "                y = y1 + (y2 - y1) * (xmin - x1) / (x2 - x1)\n",
    "            elif code_out & 2:\n",
    "                x = xmax\n",
    "                y = y1 + (y2 - y1) * (xmax - x1) / (x2 - x1)\n",
    "            elif code_out & 4:\n",
    "                y = ymin\n",
    "                x = x1 + (x2 - x1) * (ymin - y1) / (y2 - y1)\n",
    "            elif code_out & 8:\n",
    "                y = ymax\n",
    "                x = x1 + (x2 - x1) * (ymax - y1) / (y2 - y1)\n",
    "\n",
    "            if code_out == code1:\n",
    "                x1 = x\n",
    "                y1 = y\n",
    "                code1 = compute_outcode(x1, y1, xmin, ymin, xmax, ymax)\n",
    "            else:\n",
    "                x2 = x\n",
    "                y2 = y\n",
    "                code2 = compute_outcode(x2, y2, xmin, ymin, xmax, ymax)\n",
    "\n",
    "    if accept:\n",
    "        print(\"Line after clipping:\", (x1, y1), \"-\", (x2, y2))\n",
    "    else:\n",
    "        print(\"Line lies completely outside the clipping window\")\n",
    "\n",
    "# Input endpoint of the line and screen dimensions\n",
    "x1, y1 = map(int, input(\"Enter endpoint 1 (x1 y1): \").split())\n",
    "x2, y2 = map(int, input(\"Enter endpoint 2 (x2 y2): \").split())\n",
    "width = int(input(\"Enter screen width: \"))\n",
    "height = int(input(\"Enter screen height: \"))\n",
    "\n",
    "# Clipping window coordinates\n",
    "xmin, ymin = 0, 0\n",
    "xmax, ymax = width - 1, height - 1\n",
    "\n",
    "# Perform Cohen-Sutherland line clipping\n",
    "cohen_sutherland(x1, y1, x2, y2, xmin, ymin, xmax, ymax)"
   ]
  },
  {
   "cell_type": "code",
   "execution_count": null,
   "id": "09a90053",
   "metadata": {},
   "outputs": [],
   "source": []
  }
 ],
 "metadata": {
  "kernelspec": {
   "display_name": "Python 3 (ipykernel)",
   "language": "python",
   "name": "python3"
  },
  "language_info": {
   "codemirror_mode": {
    "name": "ipython",
    "version": 3
   },
   "file_extension": ".py",
   "mimetype": "text/x-python",
   "name": "python",
   "nbconvert_exporter": "python",
   "pygments_lexer": "ipython3",
   "version": "3.11.4"
  }
 },
 "nbformat": 4,
 "nbformat_minor": 5
}
